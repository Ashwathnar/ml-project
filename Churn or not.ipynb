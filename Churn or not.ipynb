{
 "cells": [
  {
   "cell_type": "code",
   "execution_count": 35,
   "id": "d53564d9",
   "metadata": {},
   "outputs": [],
   "source": [
    "#import nessary models\n",
    "import numpy as np\n",
    "import pandas as pd\n",
    "import matplotlib.pyplot as mlt"
   ]
  },
  {
   "cell_type": "code",
   "execution_count": 36,
   "id": "e4cb0795",
   "metadata": {},
   "outputs": [],
   "source": [
    "#read the dataset\n",
    "df=pd.read_csv(\"churn.csv\")"
   ]
  },
  {
   "cell_type": "code",
   "execution_count": 37,
   "id": "ecac1887",
   "metadata": {},
   "outputs": [
    {
     "data": {
      "text/plain": [
       "(19158, 14)"
      ]
     },
     "execution_count": 37,
     "metadata": {},
     "output_type": "execute_result"
    }
   ],
   "source": [
    "df.shape\n",
    "\n"
   ]
  },
  {
   "cell_type": "code",
   "execution_count": 38,
   "id": "30a61d08",
   "metadata": {},
   "outputs": [
    {
     "name": "stdout",
     "output_type": "stream",
     "text": [
      "<class 'pandas.core.frame.DataFrame'>\n",
      "RangeIndex: 19158 entries, 0 to 19157\n",
      "Data columns (total 14 columns):\n",
      " #   Column                  Non-Null Count  Dtype  \n",
      "---  ------                  --------------  -----  \n",
      " 0   enrollee_id             19158 non-null  int64  \n",
      " 1   city                    19158 non-null  object \n",
      " 2   city_development_index  19158 non-null  float64\n",
      " 3   gender                  14650 non-null  object \n",
      " 4   relevent_experience     19158 non-null  object \n",
      " 5   enrolled_university     18772 non-null  object \n",
      " 6   education_level         18698 non-null  object \n",
      " 7   major_discipline        16345 non-null  object \n",
      " 8   experience              19093 non-null  object \n",
      " 9   company_size            13220 non-null  object \n",
      " 10  company_type            13018 non-null  object \n",
      " 11  last_new_job            18735 non-null  object \n",
      " 12  training_hours          19158 non-null  int64  \n",
      " 13  target                  19158 non-null  float64\n",
      "dtypes: float64(2), int64(2), object(10)\n",
      "memory usage: 2.0+ MB\n"
     ]
    }
   ],
   "source": [
    "df.info()"
   ]
  },
  {
   "cell_type": "code",
   "execution_count": 39,
   "id": "9a53d67c",
   "metadata": {},
   "outputs": [
    {
     "data": {
      "text/plain": [
       "enrollee_id                  0\n",
       "city                         0\n",
       "city_development_index       0\n",
       "gender                    4508\n",
       "relevent_experience          0\n",
       "enrolled_university        386\n",
       "education_level            460\n",
       "major_discipline          2813\n",
       "experience                  65\n",
       "company_size              5938\n",
       "company_type              6140\n",
       "last_new_job               423\n",
       "training_hours               0\n",
       "target                       0\n",
       "dtype: int64"
      ]
     },
     "execution_count": 39,
     "metadata": {},
     "output_type": "execute_result"
    }
   ],
   "source": [
    "df.isnull().sum()"
   ]
  },
  {
   "cell_type": "code",
   "execution_count": 40,
   "id": "7abe0872",
   "metadata": {},
   "outputs": [],
   "source": [
    "# split numeric feature and objct feature datatype \n",
    "\n",
    "objectvalue=[]\n",
    "numvalue=[]\n",
    "for nu in df.columns:\n",
    "    if df[nu].dtype==\"object\":\n",
    "       objectvalue.append(nu)\n",
    "    else:    \n",
    "        numvalue.append(nu)\n",
    "    "
   ]
  },
  {
   "cell_type": "code",
   "execution_count": 41,
   "id": "62076d81",
   "metadata": {},
   "outputs": [
    {
     "data": {
      "text/plain": [
       "['city',\n",
       " 'gender',\n",
       " 'relevent_experience',\n",
       " 'enrolled_university',\n",
       " 'education_level',\n",
       " 'major_discipline',\n",
       " 'experience',\n",
       " 'company_size',\n",
       " 'company_type',\n",
       " 'last_new_job']"
      ]
     },
     "execution_count": 41,
     "metadata": {},
     "output_type": "execute_result"
    }
   ],
   "source": [
    "\n",
    "objectvalue"
   ]
  },
  {
   "cell_type": "code",
   "execution_count": 42,
   "id": "4b133a1b",
   "metadata": {},
   "outputs": [
    {
     "data": {
      "text/plain": [
       "['enrollee_id', 'city_development_index', 'training_hours', 'target']"
      ]
     },
     "execution_count": 42,
     "metadata": {},
     "output_type": "execute_result"
    }
   ],
   "source": [
    "numvalue"
   ]
  },
  {
   "cell_type": "code",
   "execution_count": 43,
   "id": "893b60cd",
   "metadata": {},
   "outputs": [
    {
     "data": {
      "text/plain": [
       "enrollee_id               0\n",
       "city_development_index    0\n",
       "training_hours            0\n",
       "target                    0\n",
       "dtype: int64"
      ]
     },
     "execution_count": 43,
     "metadata": {},
     "output_type": "execute_result"
    }
   ],
   "source": [
    "# the numeric dtype feature not null values plased\n",
    "df[numvalue].isnull().sum()"
   ]
  },
  {
   "cell_type": "code",
   "execution_count": 44,
   "id": "4afd7727",
   "metadata": {},
   "outputs": [
    {
     "data": {
      "text/plain": [
       "city                      0\n",
       "gender                 4508\n",
       "relevent_experience       0\n",
       "enrolled_university     386\n",
       "education_level         460\n",
       "major_discipline       2813\n",
       "experience               65\n",
       "company_size           5938\n",
       "company_type           6140\n",
       "last_new_job            423\n",
       "dtype: int64"
      ]
     },
     "execution_count": 44,
     "metadata": {},
     "output_type": "execute_result"
    }
   ],
   "source": [
    "# object dtype feature has more null value\n",
    "\n",
    "df[objectvalue].isnull().sum()"
   ]
  },
  {
   "cell_type": "code",
   "execution_count": 45,
   "id": "d58b8c4c",
   "metadata": {},
   "outputs": [],
   "source": [
    "# i fill nullvalue places insert mode value of the feature\n",
    "for f in objectvalue:\n",
    "    if df[f].isnull().sum() != 0 :\n",
    "       modev=df[f].mode()[0]\n",
    "       df[f].fillna(modev,inplace=True)"
   ]
  },
  {
   "cell_type": "code",
   "execution_count": 46,
   "id": "54ac3095",
   "metadata": {},
   "outputs": [
    {
     "data": {
      "text/plain": [
       "enrollee_id               0\n",
       "city                      0\n",
       "city_development_index    0\n",
       "gender                    0\n",
       "relevent_experience       0\n",
       "enrolled_university       0\n",
       "education_level           0\n",
       "major_discipline          0\n",
       "experience                0\n",
       "company_size              0\n",
       "company_type              0\n",
       "last_new_job              0\n",
       "training_hours            0\n",
       "target                    0\n",
       "dtype: int64"
      ]
     },
     "execution_count": 46,
     "metadata": {},
     "output_type": "execute_result"
    }
   ],
   "source": [
    "df.isnull().sum()"
   ]
  },
  {
   "cell_type": "code",
   "execution_count": 47,
   "id": "f3392700",
   "metadata": {},
   "outputs": [
    {
     "data": {
      "text/html": [
       "<div>\n",
       "<style scoped>\n",
       "    .dataframe tbody tr th:only-of-type {\n",
       "        vertical-align: middle;\n",
       "    }\n",
       "\n",
       "    .dataframe tbody tr th {\n",
       "        vertical-align: top;\n",
       "    }\n",
       "\n",
       "    .dataframe thead th {\n",
       "        text-align: right;\n",
       "    }\n",
       "</style>\n",
       "<table border=\"1\" class=\"dataframe\">\n",
       "  <thead>\n",
       "    <tr style=\"text-align: right;\">\n",
       "      <th></th>\n",
       "      <th>enrollee_id</th>\n",
       "      <th>city_development_index</th>\n",
       "      <th>training_hours</th>\n",
       "      <th>target</th>\n",
       "    </tr>\n",
       "  </thead>\n",
       "  <tbody>\n",
       "    <tr>\n",
       "      <th>count</th>\n",
       "      <td>19158.000000</td>\n",
       "      <td>19158.000000</td>\n",
       "      <td>19158.000000</td>\n",
       "      <td>19158.000000</td>\n",
       "    </tr>\n",
       "    <tr>\n",
       "      <th>mean</th>\n",
       "      <td>16875.358179</td>\n",
       "      <td>0.828848</td>\n",
       "      <td>65.366896</td>\n",
       "      <td>0.249348</td>\n",
       "    </tr>\n",
       "    <tr>\n",
       "      <th>std</th>\n",
       "      <td>9616.292592</td>\n",
       "      <td>0.123362</td>\n",
       "      <td>60.058462</td>\n",
       "      <td>0.432647</td>\n",
       "    </tr>\n",
       "    <tr>\n",
       "      <th>min</th>\n",
       "      <td>1.000000</td>\n",
       "      <td>0.448000</td>\n",
       "      <td>1.000000</td>\n",
       "      <td>0.000000</td>\n",
       "    </tr>\n",
       "    <tr>\n",
       "      <th>25%</th>\n",
       "      <td>8554.250000</td>\n",
       "      <td>0.740000</td>\n",
       "      <td>23.000000</td>\n",
       "      <td>0.000000</td>\n",
       "    </tr>\n",
       "    <tr>\n",
       "      <th>50%</th>\n",
       "      <td>16982.500000</td>\n",
       "      <td>0.903000</td>\n",
       "      <td>47.000000</td>\n",
       "      <td>0.000000</td>\n",
       "    </tr>\n",
       "    <tr>\n",
       "      <th>75%</th>\n",
       "      <td>25169.750000</td>\n",
       "      <td>0.920000</td>\n",
       "      <td>88.000000</td>\n",
       "      <td>0.000000</td>\n",
       "    </tr>\n",
       "    <tr>\n",
       "      <th>max</th>\n",
       "      <td>33380.000000</td>\n",
       "      <td>0.949000</td>\n",
       "      <td>336.000000</td>\n",
       "      <td>1.000000</td>\n",
       "    </tr>\n",
       "  </tbody>\n",
       "</table>\n",
       "</div>"
      ],
      "text/plain": [
       "        enrollee_id  city_development_index  training_hours        target\n",
       "count  19158.000000            19158.000000    19158.000000  19158.000000\n",
       "mean   16875.358179                0.828848       65.366896      0.249348\n",
       "std     9616.292592                0.123362       60.058462      0.432647\n",
       "min        1.000000                0.448000        1.000000      0.000000\n",
       "25%     8554.250000                0.740000       23.000000      0.000000\n",
       "50%    16982.500000                0.903000       47.000000      0.000000\n",
       "75%    25169.750000                0.920000       88.000000      0.000000\n",
       "max    33380.000000                0.949000      336.000000      1.000000"
      ]
     },
     "execution_count": 47,
     "metadata": {},
     "output_type": "execute_result"
    }
   ],
   "source": [
    "df.describe()"
   ]
  },
  {
   "cell_type": "code",
   "execution_count": 48,
   "id": "1583d6d5",
   "metadata": {},
   "outputs": [
    {
     "data": {
      "text/plain": [
       "target\n",
       "0.0    14381\n",
       "1.0     4777\n",
       "Name: count, dtype: int64"
      ]
     },
     "execution_count": 48,
     "metadata": {},
     "output_type": "execute_result"
    }
   ],
   "source": [
    "# find the balanced or imbalanced dataset\n",
    "\n",
    "df['target'].value_counts()"
   ]
  },
  {
   "cell_type": "code",
   "execution_count": 49,
   "id": "6b1053b0",
   "metadata": {},
   "outputs": [],
   "source": [
    "# its a imbalanced dataset, when i will evalation metrics use \"Presition\" and \"recall\"\n",
    "# becausethe target unique values,one unique value has above 10000 values\n",
    "# but another unique value has above 4000 only"
   ]
  },
  {
   "cell_type": "code",
   "execution_count": 50,
   "id": "5277d3d0",
   "metadata": {},
   "outputs": [
    {
     "data": {
      "text/plain": [
       "city                   123\n",
       "gender                   3\n",
       "relevent_experience      2\n",
       "enrolled_university      3\n",
       "education_level          5\n",
       "major_discipline         6\n",
       "experience              22\n",
       "company_size             8\n",
       "company_type             6\n",
       "last_new_job             6\n",
       "dtype: int64"
      ]
     },
     "execution_count": 50,
     "metadata": {},
     "output_type": "execute_result"
    }
   ],
   "source": [
    "#find the unique value of the object datatype\n",
    "\n",
    "df[objectvalue].nunique()"
   ]
  },
  {
   "cell_type": "code",
   "execution_count": 51,
   "id": "e10c43b8",
   "metadata": {},
   "outputs": [],
   "source": [
    "# split ordered chategorical feature and nominal chategorical feature\n",
    "\n",
    "targete=[]\n",
    "labele=[]\n",
    "for d in objectvalue:\n",
    "    if df[d].nunique()>3:\n",
    "        targete.append(d)\n",
    "    else:\n",
    "        labele.append(d)\n",
    "    "
   ]
  },
  {
   "cell_type": "code",
   "execution_count": 52,
   "id": "228217fa",
   "metadata": {},
   "outputs": [
    {
     "name": "stdout",
     "output_type": "stream",
     "text": [
      "gender\n",
      "\n",
      "['Male' 'Female' 'Other']\n",
      "\n",
      "relevent_experience\n",
      "\n",
      "['Has relevent experience' 'No relevent experience']\n",
      "\n",
      "enrolled_university\n",
      "\n",
      "['no_enrollment' 'Full time course' 'Part time course']\n",
      "\n"
     ]
    }
   ],
   "source": [
    "#it is ordinal chategorical feature\n",
    "for s in labele:\n",
    "    gh=df[s].unique()\n",
    "    print(s)\n",
    "    print()\n",
    "    print(gh)\n",
    "    print()"
   ]
  },
  {
   "cell_type": "code",
   "execution_count": 53,
   "id": "6250b0d4",
   "metadata": {},
   "outputs": [],
   "source": [
    "# import encoders\n",
    "# ordinal features change to numeric values used to labelencoder\n",
    "# nominal features change to numeric values used to Target encoder\n",
    "\n",
    "from sklearn.preprocessing import LabelEncoder\n",
    "from category_encoders import TargetEncoder\n",
    "\n",
    "for la in labele:\n",
    "    labe=LabelEncoder()\n",
    "    df[la]=labe.fit_transform(df[la])\n",
    "for ta in targete:\n",
    "    tae=TargetEncoder()\n",
    "    df[ta]=tae.fit_transform(df[ta],df['target'])\n"
   ]
  },
  {
   "cell_type": "code",
   "execution_count": 54,
   "id": "720d8575",
   "metadata": {},
   "outputs": [],
   "source": [
    "df['target']=LabelEncoder().fit_transform(df['target'])"
   ]
  },
  {
   "cell_type": "code",
   "execution_count": 55,
   "id": "a24516bf",
   "metadata": {},
   "outputs": [
    {
     "data": {
      "text/html": [
       "<div>\n",
       "<style scoped>\n",
       "    .dataframe tbody tr th:only-of-type {\n",
       "        vertical-align: middle;\n",
       "    }\n",
       "\n",
       "    .dataframe tbody tr th {\n",
       "        vertical-align: top;\n",
       "    }\n",
       "\n",
       "    .dataframe thead th {\n",
       "        text-align: right;\n",
       "    }\n",
       "</style>\n",
       "<table border=\"1\" class=\"dataframe\">\n",
       "  <thead>\n",
       "    <tr style=\"text-align: right;\">\n",
       "      <th></th>\n",
       "      <th>enrollee_id</th>\n",
       "      <th>city</th>\n",
       "      <th>city_development_index</th>\n",
       "      <th>gender</th>\n",
       "      <th>relevent_experience</th>\n",
       "      <th>enrolled_university</th>\n",
       "      <th>education_level</th>\n",
       "      <th>major_discipline</th>\n",
       "      <th>experience</th>\n",
       "      <th>company_size</th>\n",
       "      <th>company_type</th>\n",
       "      <th>last_new_job</th>\n",
       "      <th>training_hours</th>\n",
       "      <th>target</th>\n",
       "    </tr>\n",
       "  </thead>\n",
       "  <tbody>\n",
       "    <tr>\n",
       "      <th>0</th>\n",
       "      <td>8949</td>\n",
       "      <td>0.213088</td>\n",
       "      <td>0.920</td>\n",
       "      <td>1</td>\n",
       "      <td>0</td>\n",
       "      <td>2</td>\n",
       "      <td>0.277741</td>\n",
       "      <td>0.250795</td>\n",
       "      <td>0.156968</td>\n",
       "      <td>0.327569</td>\n",
       "      <td>0.260638</td>\n",
       "      <td>0.269290</td>\n",
       "      <td>36</td>\n",
       "      <td>1</td>\n",
       "    </tr>\n",
       "    <tr>\n",
       "      <th>1</th>\n",
       "      <td>29725</td>\n",
       "      <td>0.147894</td>\n",
       "      <td>0.776</td>\n",
       "      <td>1</td>\n",
       "      <td>1</td>\n",
       "      <td>2</td>\n",
       "      <td>0.277741</td>\n",
       "      <td>0.250795</td>\n",
       "      <td>0.166181</td>\n",
       "      <td>0.327569</td>\n",
       "      <td>0.260638</td>\n",
       "      <td>0.182371</td>\n",
       "      <td>47</td>\n",
       "      <td>0</td>\n",
       "    </tr>\n",
       "    <tr>\n",
       "      <th>2</th>\n",
       "      <td>11561</td>\n",
       "      <td>0.591044</td>\n",
       "      <td>0.624</td>\n",
       "      <td>1</td>\n",
       "      <td>1</td>\n",
       "      <td>0</td>\n",
       "      <td>0.277741</td>\n",
       "      <td>0.250795</td>\n",
       "      <td>0.288112</td>\n",
       "      <td>0.327569</td>\n",
       "      <td>0.260638</td>\n",
       "      <td>0.301387</td>\n",
       "      <td>83</td>\n",
       "      <td>0</td>\n",
       "    </tr>\n",
       "    <tr>\n",
       "      <th>3</th>\n",
       "      <td>33241</td>\n",
       "      <td>0.384382</td>\n",
       "      <td>0.789</td>\n",
       "      <td>1</td>\n",
       "      <td>1</td>\n",
       "      <td>2</td>\n",
       "      <td>0.277741</td>\n",
       "      <td>0.262997</td>\n",
       "      <td>0.454023</td>\n",
       "      <td>0.327569</td>\n",
       "      <td>0.260638</td>\n",
       "      <td>0.301387</td>\n",
       "      <td>52</td>\n",
       "      <td>1</td>\n",
       "    </tr>\n",
       "    <tr>\n",
       "      <th>4</th>\n",
       "      <td>666</td>\n",
       "      <td>0.289062</td>\n",
       "      <td>0.767</td>\n",
       "      <td>1</td>\n",
       "      <td>0</td>\n",
       "      <td>2</td>\n",
       "      <td>0.214400</td>\n",
       "      <td>0.250795</td>\n",
       "      <td>0.156968</td>\n",
       "      <td>0.327569</td>\n",
       "      <td>0.139860</td>\n",
       "      <td>0.221574</td>\n",
       "      <td>8</td>\n",
       "      <td>0</td>\n",
       "    </tr>\n",
       "    <tr>\n",
       "      <th>...</th>\n",
       "      <td>...</td>\n",
       "      <td>...</td>\n",
       "      <td>...</td>\n",
       "      <td>...</td>\n",
       "      <td>...</td>\n",
       "      <td>...</td>\n",
       "      <td>...</td>\n",
       "      <td>...</td>\n",
       "      <td>...</td>\n",
       "      <td>...</td>\n",
       "      <td>...</td>\n",
       "      <td>...</td>\n",
       "      <td>...</td>\n",
       "      <td>...</td>\n",
       "    </tr>\n",
       "    <tr>\n",
       "      <th>19153</th>\n",
       "      <td>7386</td>\n",
       "      <td>0.125828</td>\n",
       "      <td>0.878</td>\n",
       "      <td>1</td>\n",
       "      <td>1</td>\n",
       "      <td>2</td>\n",
       "      <td>0.277741</td>\n",
       "      <td>0.210762</td>\n",
       "      <td>0.182594</td>\n",
       "      <td>0.327569</td>\n",
       "      <td>0.260638</td>\n",
       "      <td>0.269290</td>\n",
       "      <td>42</td>\n",
       "      <td>1</td>\n",
       "    </tr>\n",
       "    <tr>\n",
       "      <th>19154</th>\n",
       "      <td>31398</td>\n",
       "      <td>0.213088</td>\n",
       "      <td>0.920</td>\n",
       "      <td>1</td>\n",
       "      <td>0</td>\n",
       "      <td>2</td>\n",
       "      <td>0.277741</td>\n",
       "      <td>0.250795</td>\n",
       "      <td>0.182594</td>\n",
       "      <td>0.327569</td>\n",
       "      <td>0.260638</td>\n",
       "      <td>0.221574</td>\n",
       "      <td>52</td>\n",
       "      <td>1</td>\n",
       "    </tr>\n",
       "    <tr>\n",
       "      <th>19155</th>\n",
       "      <td>24576</td>\n",
       "      <td>0.213088</td>\n",
       "      <td>0.920</td>\n",
       "      <td>1</td>\n",
       "      <td>0</td>\n",
       "      <td>2</td>\n",
       "      <td>0.277741</td>\n",
       "      <td>0.250795</td>\n",
       "      <td>0.156968</td>\n",
       "      <td>0.327569</td>\n",
       "      <td>0.260638</td>\n",
       "      <td>0.221574</td>\n",
       "      <td>44</td>\n",
       "      <td>0</td>\n",
       "    </tr>\n",
       "    <tr>\n",
       "      <th>19156</th>\n",
       "      <td>5756</td>\n",
       "      <td>0.137143</td>\n",
       "      <td>0.802</td>\n",
       "      <td>1</td>\n",
       "      <td>0</td>\n",
       "      <td>2</td>\n",
       "      <td>0.195340</td>\n",
       "      <td>0.250795</td>\n",
       "      <td>0.454023</td>\n",
       "      <td>0.173318</td>\n",
       "      <td>0.260638</td>\n",
       "      <td>0.241379</td>\n",
       "      <td>97</td>\n",
       "      <td>0</td>\n",
       "    </tr>\n",
       "    <tr>\n",
       "      <th>19157</th>\n",
       "      <td>23834</td>\n",
       "      <td>0.132251</td>\n",
       "      <td>0.855</td>\n",
       "      <td>1</td>\n",
       "      <td>1</td>\n",
       "      <td>2</td>\n",
       "      <td>0.133117</td>\n",
       "      <td>0.250795</td>\n",
       "      <td>0.331854</td>\n",
       "      <td>0.327569</td>\n",
       "      <td>0.260638</td>\n",
       "      <td>0.269290</td>\n",
       "      <td>127</td>\n",
       "      <td>0</td>\n",
       "    </tr>\n",
       "  </tbody>\n",
       "</table>\n",
       "<p>19158 rows × 14 columns</p>\n",
       "</div>"
      ],
      "text/plain": [
       "       enrollee_id      city  city_development_index  gender  \\\n",
       "0             8949  0.213088                   0.920       1   \n",
       "1            29725  0.147894                   0.776       1   \n",
       "2            11561  0.591044                   0.624       1   \n",
       "3            33241  0.384382                   0.789       1   \n",
       "4              666  0.289062                   0.767       1   \n",
       "...            ...       ...                     ...     ...   \n",
       "19153         7386  0.125828                   0.878       1   \n",
       "19154        31398  0.213088                   0.920       1   \n",
       "19155        24576  0.213088                   0.920       1   \n",
       "19156         5756  0.137143                   0.802       1   \n",
       "19157        23834  0.132251                   0.855       1   \n",
       "\n",
       "       relevent_experience  enrolled_university  education_level  \\\n",
       "0                        0                    2         0.277741   \n",
       "1                        1                    2         0.277741   \n",
       "2                        1                    0         0.277741   \n",
       "3                        1                    2         0.277741   \n",
       "4                        0                    2         0.214400   \n",
       "...                    ...                  ...              ...   \n",
       "19153                    1                    2         0.277741   \n",
       "19154                    0                    2         0.277741   \n",
       "19155                    0                    2         0.277741   \n",
       "19156                    0                    2         0.195340   \n",
       "19157                    1                    2         0.133117   \n",
       "\n",
       "       major_discipline  experience  company_size  company_type  last_new_job  \\\n",
       "0              0.250795    0.156968      0.327569      0.260638      0.269290   \n",
       "1              0.250795    0.166181      0.327569      0.260638      0.182371   \n",
       "2              0.250795    0.288112      0.327569      0.260638      0.301387   \n",
       "3              0.262997    0.454023      0.327569      0.260638      0.301387   \n",
       "4              0.250795    0.156968      0.327569      0.139860      0.221574   \n",
       "...                 ...         ...           ...           ...           ...   \n",
       "19153          0.210762    0.182594      0.327569      0.260638      0.269290   \n",
       "19154          0.250795    0.182594      0.327569      0.260638      0.221574   \n",
       "19155          0.250795    0.156968      0.327569      0.260638      0.221574   \n",
       "19156          0.250795    0.454023      0.173318      0.260638      0.241379   \n",
       "19157          0.250795    0.331854      0.327569      0.260638      0.269290   \n",
       "\n",
       "       training_hours  target  \n",
       "0                  36       1  \n",
       "1                  47       0  \n",
       "2                  83       0  \n",
       "3                  52       1  \n",
       "4                   8       0  \n",
       "...               ...     ...  \n",
       "19153              42       1  \n",
       "19154              52       1  \n",
       "19155              44       0  \n",
       "19156              97       0  \n",
       "19157             127       0  \n",
       "\n",
       "[19158 rows x 14 columns]"
      ]
     },
     "execution_count": 55,
     "metadata": {},
     "output_type": "execute_result"
    }
   ],
   "source": [
    "df"
   ]
  },
  {
   "cell_type": "code",
   "execution_count": 56,
   "id": "a7a942f7",
   "metadata": {},
   "outputs": [
    {
     "data": {
      "text/plain": [
       "target                    1.000000\n",
       "city                      0.391860\n",
       "city_development_index    0.341665\n",
       "experience                0.189915\n",
       "company_size              0.175930\n",
       "enrolled_university       0.149539\n",
       "relevent_experience       0.128430\n",
       "education_level           0.091517\n",
       "last_new_job              0.085674\n",
       "company_type              0.068991\n",
       "enrollee_id               0.049475\n",
       "training_hours            0.021577\n",
       "major_discipline          0.021290\n",
       "gender                    0.006733\n",
       "Name: target, dtype: float64"
      ]
     },
     "execution_count": 56,
     "metadata": {},
     "output_type": "execute_result"
    }
   ],
   "source": [
    "#find the correlation between target and independent variable\n",
    "\n",
    "co=abs(df.corr()['target']).sort_values(ascending=False)\n",
    "co"
   ]
  },
  {
   "cell_type": "code",
   "execution_count": 57,
   "id": "c1ff5c88",
   "metadata": {},
   "outputs": [],
   "source": [
    "# filter bad correlation features\n",
    "\n",
    "badcor=co[co<0.06]"
   ]
  },
  {
   "cell_type": "code",
   "execution_count": 58,
   "id": "c438966a",
   "metadata": {},
   "outputs": [
    {
     "data": {
      "text/plain": [
       "enrollee_id         0.049475\n",
       "training_hours      0.021577\n",
       "major_discipline    0.021290\n",
       "gender              0.006733\n",
       "Name: target, dtype: float64"
      ]
     },
     "execution_count": 58,
     "metadata": {},
     "output_type": "execute_result"
    }
   ],
   "source": [
    "badcor"
   ]
  },
  {
   "cell_type": "code",
   "execution_count": 59,
   "id": "8f9b856f",
   "metadata": {},
   "outputs": [],
   "source": [
    "#drop the bad correlation feature into datset\n",
    "df.drop(badcor.index,axis=1,inplace=True)"
   ]
  },
  {
   "cell_type": "code",
   "execution_count": 60,
   "id": "9d8ac379",
   "metadata": {},
   "outputs": [
    {
     "data": {
      "text/plain": [
       "(19158, 10)"
      ]
     },
     "execution_count": 60,
     "metadata": {},
     "output_type": "execute_result"
    }
   ],
   "source": [
    "df.shape"
   ]
  },
  {
   "cell_type": "code",
   "execution_count": 61,
   "id": "b81f5211",
   "metadata": {},
   "outputs": [],
   "source": [
    "# split independent variable and dependent variable\n",
    "\n",
    "X=df.drop('target',axis=1)"
   ]
  },
  {
   "cell_type": "code",
   "execution_count": 62,
   "id": "d1158de9",
   "metadata": {},
   "outputs": [
    {
     "data": {
      "text/plain": [
       "(19158, 9)"
      ]
     },
     "execution_count": 62,
     "metadata": {},
     "output_type": "execute_result"
    }
   ],
   "source": [
    "X.shape"
   ]
  },
  {
   "cell_type": "code",
   "execution_count": 63,
   "id": "03e6f6f2",
   "metadata": {},
   "outputs": [],
   "source": [
    "y=df['target']\n"
   ]
  },
  {
   "cell_type": "code",
   "execution_count": 71,
   "id": "bd7d7c62",
   "metadata": {},
   "outputs": [],
   "source": [
    "from sklearn.model_selection import train_test_split\n",
    "X_train,X_test,y_train,y_test =train_test_split(X,y,test_size=0.10,random_state=42)"
   ]
  },
  {
   "cell_type": "code",
   "execution_count": 87,
   "id": "aefd638b",
   "metadata": {},
   "outputs": [
    {
     "name": "stdout",
     "output_type": "stream",
     "text": [
      "DecisionTreeClassifier()\n",
      "\n",
      "accuracy_score: 0.7176409185803758\n",
      "precision_score: 0.40829694323144106\n",
      "recall_score: 0.40919037199124725\n",
      "confusion_matrix\n",
      "[[1188  271]\n",
      " [ 270  187]]\n",
      "f1_score 0.40874316939890715\n",
      "\n",
      "\n",
      "LogisticRegression()\n",
      "\n",
      "accuracy_score: 0.7807933194154488\n",
      "precision_score: 0.3296943231441048\n",
      "recall_score: 0.571969696969697\n",
      "confusion_matrix\n",
      "[[1345  307]\n",
      " [ 113  151]]\n",
      "f1_score 0.41828254847645435\n",
      "\n",
      "\n",
      "RandomForestClassifier()\n",
      "\n",
      "accuracy_score: 0.7552192066805845\n",
      "precision_score: 0.43231441048034935\n",
      "recall_score: 0.4864864864864865\n",
      "confusion_matrix\n",
      "[[1249  260]\n",
      " [ 209  198]]\n",
      "f1_score 0.45780346820809253\n",
      "\n",
      "\n",
      "SVC()\n",
      "\n",
      "accuracy_score: 0.7807933194154488\n",
      "precision_score: 0.4126637554585153\n",
      "recall_score: 0.5558823529411765\n",
      "confusion_matrix\n",
      "[[1307  269]\n",
      " [ 151  189]]\n",
      "f1_score 0.4736842105263158\n",
      "\n",
      "\n",
      "KNeighborsClassifier()\n",
      "\n",
      "accuracy_score: 0.7656576200417536\n",
      "precision_score: 0.4432314410480349\n",
      "recall_score: 0.5113350125944585\n",
      "confusion_matrix\n",
      "[[1264  255]\n",
      " [ 194  203]]\n",
      "f1_score 0.47485380116959064\n",
      "\n",
      "\n"
     ]
    }
   ],
   "source": [
    "# import classification algorithums and metrics\n",
    "# it is imbalanced dataset so, i used presition ,recall,f1 score metrics\n",
    "\n",
    "from sklearn.tree import DecisionTreeClassifier\n",
    "from sklearn.linear_model import LogisticRegression\n",
    "from sklearn.ensemble import RandomForestClassifier\n",
    "from sklearn.svm import SVC\n",
    "from sklearn.neighbors import KNeighborsClassifier\n",
    "from sklearn.metrics import accuracy_score,confusion_matrix,precision_score,recall_score,f1_score\n",
    "\n",
    "models=[DecisionTreeClassifier(),LogisticRegression(),RandomForestClassifier(),SVC(),\n",
    "        KNeighborsClassifier(n_neighbors=5)]\n",
    "\n",
    "# all model train the dataset and evalvating the metrics\n",
    "\n",
    "for mod in models:\n",
    "    mod.fit(X_train,y_train)\n",
    "    pr=mod.predict(X_test)\n",
    "    acc=accuracy_score(pr,y_test)\n",
    "    prec=precision_score(pr,y_test)\n",
    "    rec=recall_score(pr,y_test)\n",
    "    con=confusion_matrix(pr,y_test)\n",
    "    f1s=f1_score(pr,y_test)\n",
    "    print(mod)\n",
    "    print()\n",
    "    print('accuracy_score: '+str(acc))\n",
    "    print(\"precision_score: \"+str(prec))\n",
    "    print(\"recall_score: \"+str(rec))\n",
    "    print(\"confusion_matrix\")\n",
    "    print(con)\n",
    "    print(\"f1_score\",f1s)\n",
    "    print()\n",
    "    print()"
   ]
  },
  {
   "cell_type": "code",
   "execution_count": null,
   "id": "b50f5ae2",
   "metadata": {},
   "outputs": [],
   "source": [
    "# LogisticRegression and SVC are good trained model "
   ]
  },
  {
   "cell_type": "code",
   "execution_count": 100,
   "id": "5e68a72d",
   "metadata": {},
   "outputs": [
    {
     "name": "stdout",
     "output_type": "stream",
     "text": [
      "accuracy :  0.7762443776498643\n",
      "f1_score :  0.42003196291457784\n"
     ]
    }
   ],
   "source": [
    "# improving accuracy of the model i using  cross validation for Logistic Regression\n",
    "\n",
    "from sklearn.model_selection import cross_val_score\n",
    "from sklearn.metrics import make_scorer\n",
    "lo=LogisticRegression().fit(X_train,y_train)\n",
    "scorer = make_scorer(accuracy_score)\n",
    "scorerf=make_scorer(f1_score)\n",
    "cros=cross_val_score(lo,X_train,y_train,scoring=scorer,cv=20)\n",
    "crosf=cross_val_score(lo,X_train,y_train,scoring=scorerf,cv=20)\n",
    "print(\"accuracy : \", np.mean(cros))\n",
    "print(\"f1_score : \", np.mean(crosf))"
   ]
  },
  {
   "cell_type": "code",
   "execution_count": 102,
   "id": "cee88434",
   "metadata": {},
   "outputs": [
    {
     "name": "stdout",
     "output_type": "stream",
     "text": [
      "accuracy :  0.78140759719642\n",
      "f1_score :  0.48671301654288196\n"
     ]
    }
   ],
   "source": [
    "# coress validation use for Support vector classifier\n",
    "from sklearn.model_selection import cross_val_score\n",
    "from sklearn.metrics import make_scorer\n",
    "lo=SVC().fit(X_train,y_train)\n",
    "scorer = make_scorer(accuracy_score)\n",
    "scorerf=make_scorer(f1_score)\n",
    "cros=cross_val_score(lo,X_train,y_train,scoring=scorer,cv=20)\n",
    "crosf=cross_val_score(lo,X_train,y_train,scoring=scorerf,cv=20)\n",
    "print(\"accuracy : \", np.mean(cros))\n",
    "print(\"f1_score : \", np.mean(crosf))"
   ]
  },
  {
   "cell_type": "code",
   "execution_count": 116,
   "id": "b54df751",
   "metadata": {},
   "outputs": [
    {
     "name": "stdout",
     "output_type": "stream",
     "text": [
      "Major relations for target value 0:\n",
      "       index                 Feature  Importance\n",
      "5        5.0              experience    0.241299\n",
      "0        0.0                    city    0.189513\n",
      "1        1.0  city_development_index    0.177237\n",
      "8        8.0            last_new_job    0.107155\n",
      "4        4.0         education_level    0.060773\n",
      "...      ...                     ...         ...\n",
      "17235    NaN                     NaN         NaN\n",
      "17236    NaN                     NaN         NaN\n",
      "17238    NaN                     NaN         NaN\n",
      "17240    NaN                     NaN         NaN\n",
      "17241    NaN                     NaN         NaN\n",
      "\n",
      "[12923 rows x 3 columns]\n",
      "\n",
      "Major relations for target value 1:\n",
      "       index       Feature  Importance\n",
      "6        6.0  company_size    0.107504\n",
      "9        NaN           NaN         NaN\n",
      "10       NaN           NaN         NaN\n",
      "11       NaN           NaN         NaN\n",
      "18       NaN           NaN         NaN\n",
      "...      ...           ...         ...\n",
      "17225    NaN           NaN         NaN\n",
      "17227    NaN           NaN         NaN\n",
      "17234    NaN           NaN         NaN\n",
      "17237    NaN           NaN         NaN\n",
      "17239    NaN           NaN         NaN\n",
      "\n",
      "[4319 rows x 3 columns]\n"
     ]
    }
   ],
   "source": [
    "# its challenge 1\n",
    "#find majer relation of target 0 and 1 \n",
    "\n",
    "import pandas as pd\n",
    "importance_df.reset_index(drop=True, inplace=True)\n",
    "\n",
    "# Combine importance_df with y_train using the DataFrame's index\n",
    "combined_df = pd.concat([importance_df, y_train.reset_index(drop=True)], axis=1)\n",
    "\n",
    "# Separate feature importances for target value 0 and 1 using boolean indexing\n",
    "importance_df_0 = combined_df[combined_df['target'] == 0].drop(columns='target')\n",
    "importance_df_1 = combined_df[combined_df['target'] == 1].drop(columns='target')\n",
    "\n",
    "# Sort by importance to find major relations\n",
    "major_relations_0 = importance_df_0.sort_values(by='Importance', ascending=False)\n",
    "major_relations_1 = importance_df_1.sort_values(by='Importance', ascending=False)\n",
    "\n",
    "# Print or visualize the major relations for target values 0 and 1\n",
    "print(\"Major relations for target value 0:\")\n",
    "print(major_relations_0)\n",
    "\n",
    "print(\"\\nMajor relations for target value 1:\")\n",
    "print(major_relations_1)\n",
    "\n"
   ]
  },
  {
   "cell_type": "markdown",
   "id": "2274a662",
   "metadata": {},
   "source": [
    "## Challenge 1:\n",
    "\n",
    "\n",
    "\n",
    "### Major Relations for Target Value 0 (Leave the Company)\n",
    "  \n",
    "  \n",
    "  #### Feature Importance Analysis:\n",
    "  * The most important features contributing to employees leaving the company are (\"experience,\" \"city,\"     \"city development index,\" \"last new job,\" and \"education level.\")\n",
    "  * Among these, \"experience\" has the highest importance, indicating that employees' experience level       may play a significant role in their decision to leave the company.\n",
    "\n",
    "  #### Interpretation:\n",
    "  * Employees with certain levels of experience, in specific cities or areas with particular               development indices, and with certain educational backgrounds are more likely to leave the company.\n",
    "  * Factors such as the duration since their last new job and potentially other unlisted features           contribute to this decision.\n"
   ]
  },
  {
   "cell_type": "markdown",
   "id": "848b75f9",
   "metadata": {},
   "source": [
    "### Major Relations for Target Value 1 (Join the Company)\n",
    "#### Feature Importance Analysis:\n",
    "* he most important feature for employees joining the company is \"company size.\"\n",
    "Other features are not listed or have NaN values in the output, which may indicate that \n",
    "*  they are not significant contributors to employees joining the company based on the current analysis.\n",
    "#### Interpretation:\n",
    "* Employees are more likely to join a company based on the size of the company.\n",
    "* Other factors not listed in the output may also contribute to the decision to join, but they are not     highlighted as major relations in the analysis."
   ]
  },
  {
   "cell_type": "markdown",
   "id": "3cd84f30",
   "metadata": {},
   "source": [
    "### Overall Interpretation:\n",
    "* The analysis suggests that factors such as experience, city-related aspects, education level, \n",
    " last new job duration, and potentially other unlisted features influence employees'\n",
    " decisions to leave the company.\n",
    "* On the other hand, when employees decide to join a company, the size of the company plays a             significant role, although other factors may also contribute to this decision.\n",
    "\n",
    "It's essential to note that these interpretations are based on the feature importance analysis and may \n",
    "not capture all factors influencing employees' decisions to leave or join a company. Domain knowledge, \n",
    "additional data, and further analysis may be necessary to gain a comprehensive understanding of \n",
    "these dynamics."
   ]
  },
  {
   "cell_type": "code",
   "execution_count": 128,
   "id": "0c6562bd",
   "metadata": {},
   "outputs": [],
   "source": [
    "# its challenge 2\n",
    "import warnings\n",
    "warnings.filterwarnings(\"ignore\")"
   ]
  },
  {
   "cell_type": "code",
   "execution_count": 138,
   "id": "06041fcb",
   "metadata": {},
   "outputs": [
    {
     "data": {
      "text/html": [
       "<style>#sk-container-id-5 {color: black;}#sk-container-id-5 pre{padding: 0;}#sk-container-id-5 div.sk-toggleable {background-color: white;}#sk-container-id-5 label.sk-toggleable__label {cursor: pointer;display: block;width: 100%;margin-bottom: 0;padding: 0.3em;box-sizing: border-box;text-align: center;}#sk-container-id-5 label.sk-toggleable__label-arrow:before {content: \"▸\";float: left;margin-right: 0.25em;color: #696969;}#sk-container-id-5 label.sk-toggleable__label-arrow:hover:before {color: black;}#sk-container-id-5 div.sk-estimator:hover label.sk-toggleable__label-arrow:before {color: black;}#sk-container-id-5 div.sk-toggleable__content {max-height: 0;max-width: 0;overflow: hidden;text-align: left;background-color: #f0f8ff;}#sk-container-id-5 div.sk-toggleable__content pre {margin: 0.2em;color: black;border-radius: 0.25em;background-color: #f0f8ff;}#sk-container-id-5 input.sk-toggleable__control:checked~div.sk-toggleable__content {max-height: 200px;max-width: 100%;overflow: auto;}#sk-container-id-5 input.sk-toggleable__control:checked~label.sk-toggleable__label-arrow:before {content: \"▾\";}#sk-container-id-5 div.sk-estimator input.sk-toggleable__control:checked~label.sk-toggleable__label {background-color: #d4ebff;}#sk-container-id-5 div.sk-label input.sk-toggleable__control:checked~label.sk-toggleable__label {background-color: #d4ebff;}#sk-container-id-5 input.sk-hidden--visually {border: 0;clip: rect(1px 1px 1px 1px);clip: rect(1px, 1px, 1px, 1px);height: 1px;margin: -1px;overflow: hidden;padding: 0;position: absolute;width: 1px;}#sk-container-id-5 div.sk-estimator {font-family: monospace;background-color: #f0f8ff;border: 1px dotted black;border-radius: 0.25em;box-sizing: border-box;margin-bottom: 0.5em;}#sk-container-id-5 div.sk-estimator:hover {background-color: #d4ebff;}#sk-container-id-5 div.sk-parallel-item::after {content: \"\";width: 100%;border-bottom: 1px solid gray;flex-grow: 1;}#sk-container-id-5 div.sk-label:hover label.sk-toggleable__label {background-color: #d4ebff;}#sk-container-id-5 div.sk-serial::before {content: \"\";position: absolute;border-left: 1px solid gray;box-sizing: border-box;top: 0;bottom: 0;left: 50%;z-index: 0;}#sk-container-id-5 div.sk-serial {display: flex;flex-direction: column;align-items: center;background-color: white;padding-right: 0.2em;padding-left: 0.2em;position: relative;}#sk-container-id-5 div.sk-item {position: relative;z-index: 1;}#sk-container-id-5 div.sk-parallel {display: flex;align-items: stretch;justify-content: center;background-color: white;position: relative;}#sk-container-id-5 div.sk-item::before, #sk-container-id-5 div.sk-parallel-item::before {content: \"\";position: absolute;border-left: 1px solid gray;box-sizing: border-box;top: 0;bottom: 0;left: 50%;z-index: -1;}#sk-container-id-5 div.sk-parallel-item {display: flex;flex-direction: column;z-index: 1;position: relative;background-color: white;}#sk-container-id-5 div.sk-parallel-item:first-child::after {align-self: flex-end;width: 50%;}#sk-container-id-5 div.sk-parallel-item:last-child::after {align-self: flex-start;width: 50%;}#sk-container-id-5 div.sk-parallel-item:only-child::after {width: 0;}#sk-container-id-5 div.sk-dashed-wrapped {border: 1px dashed gray;margin: 0 0.4em 0.5em 0.4em;box-sizing: border-box;padding-bottom: 0.4em;background-color: white;}#sk-container-id-5 div.sk-label label {font-family: monospace;font-weight: bold;display: inline-block;line-height: 1.2em;}#sk-container-id-5 div.sk-label-container {text-align: center;}#sk-container-id-5 div.sk-container {/* jupyter's `normalize.less` sets `[hidden] { display: none; }` but bootstrap.min.css set `[hidden] { display: none !important; }` so we also need the `!important` here to be able to override the default hidden behavior on the sphinx rendered scikit-learn.org. See: https://github.com/scikit-learn/scikit-learn/issues/21755 */display: inline-block !important;position: relative;}#sk-container-id-5 div.sk-text-repr-fallback {display: none;}</style><div id=\"sk-container-id-5\" class=\"sk-top-container\"><div class=\"sk-text-repr-fallback\"><pre>DecisionTreeClassifier()</pre><b>In a Jupyter environment, please rerun this cell to show the HTML representation or trust the notebook. <br />On GitHub, the HTML representation is unable to render, please try loading this page with nbviewer.org.</b></div><div class=\"sk-container\" hidden><div class=\"sk-item\"><div class=\"sk-estimator sk-toggleable\"><input class=\"sk-toggleable__control sk-hidden--visually\" id=\"sk-estimator-id-5\" type=\"checkbox\" checked><label for=\"sk-estimator-id-5\" class=\"sk-toggleable__label sk-toggleable__label-arrow\">DecisionTreeClassifier</label><div class=\"sk-toggleable__content\"><pre>DecisionTreeClassifier()</pre></div></div></div></div></div>"
      ],
      "text/plain": [
       "DecisionTreeClassifier()"
      ]
     },
     "execution_count": 138,
     "metadata": {},
     "output_type": "execute_result"
    }
   ],
   "source": [
    "de=DecisionTreeClassifier()\n",
    "de.fit(X_train,y_train)\n"
   ]
  },
  {
   "cell_type": "code",
   "execution_count": 136,
   "id": "b75822f5",
   "metadata": {},
   "outputs": [
    {
     "name": "stdout",
     "output_type": "stream",
     "text": [
      "That Employe will ( Not leave )\n"
     ]
    }
   ],
   "source": [
    "inputdata=(0.384382,0.789,1,2,0.277741,0.454023,0.327569,0.260638,0.301387)\n",
    "gh=np.asarray(inputdata)\n",
    "new=gh.reshape(1,-1)\n",
    "pr=de.predict(new)\n",
    "if (pr==0):\n",
    "    print(\"That Employe will ( Leave ) \")\n",
    "else:\n",
    "    print(\"That Employe will ( Not leave )\")\n"
   ]
  },
  {
   "cell_type": "markdown",
   "id": "9fa8d282",
   "metadata": {},
   "source": [
    "## Challenge 2:\n",
    "\n",
    "\"After providing the features 'city', 'city_development_index', 'relevent_experience', 'enrolled_university', 'education_level', 'experience', 'company_size', 'company_type', and 'last_new_job' with their respective values, the program will determine whether the employee will leave or not.\""
   ]
  },
  {
   "cell_type": "code",
   "execution_count": null,
   "id": "36f8e81d",
   "metadata": {},
   "outputs": [],
   "source": []
  }
 ],
 "metadata": {
  "kernelspec": {
   "display_name": "Python 3 (ipykernel)",
   "language": "python",
   "name": "python3"
  },
  "language_info": {
   "codemirror_mode": {
    "name": "ipython",
    "version": 3
   },
   "file_extension": ".py",
   "mimetype": "text/x-python",
   "name": "python",
   "nbconvert_exporter": "python",
   "pygments_lexer": "ipython3",
   "version": "3.11.5"
  }
 },
 "nbformat": 4,
 "nbformat_minor": 5
}
